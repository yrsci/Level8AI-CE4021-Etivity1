{
 "cells": [
  {
   "cell_type": "markdown",
   "metadata": {},
   "source": [
    "# Notebook E-tivity 1 CE4021"
   ]
  },
  {
   "cell_type": "markdown",
   "metadata": {},
   "source": [
    "Student name: Yvonne Ryan"
   ]
  },
  {
   "cell_type": "markdown",
   "metadata": {},
   "source": [
    "Student ID: 21208298"
   ]
  },
  {
   "cell_type": "markdown",
   "metadata": {},
   "source": [
    "<hr style=\"border:2px solid gray\"> </hr>"
   ]
  },
  {
   "cell_type": "markdown",
   "metadata": {},
   "source": [
    "## Imports"
   ]
  },
  {
   "cell_type": "code",
   "execution_count": 1,
   "metadata": {},
   "outputs": [],
   "source": [
    "#None"
   ]
  },
  {
   "cell_type": "markdown",
   "metadata": {},
   "source": [
    "If you believe required imports are missing, please contact your moderator."
   ]
  },
  {
   "cell_type": "markdown",
   "metadata": {},
   "source": [
    "<hr style=\"border:2px solid gray\"> </hr>"
   ]
  },
  {
   "cell_type": "markdown",
   "metadata": {},
   "source": [
    "## Task"
   ]
  },
  {
   "cell_type": "markdown",
   "metadata": {},
   "source": [
    "You may add as many cells as you require to complete this task."
   ]
  },
  {
   "cell_type": "markdown",
   "metadata": {},
   "source": [
    "#### My solution:"
   ]
  },
  {
   "cell_type": "markdown",
   "metadata": {},
   "source": [
    "In the code below, a single-variable polynomial is represented by a list of tuples. Each tuple represents a term in the polynomial and contains 2 elements: the first element represents the coefficient of the term, and the second element represents the power that the variable in the term is raised to.\n",
    "\n",
    "e.g. The polynomial  $P(x) = Ax^2 + Bx + C$   is represented by the list [(A,2), (B,1), (C,0)]."
   ]
  },
  {
   "cell_type": "markdown",
   "metadata": {},
   "source": [
    "First we define a small function *poly_check()* that can be used to check the suitability of each tuple element in the polynomial. The coeffecients of each term may be integer or floating point; powers must be non-negative integers. This will be called by the other functions in the solution. "
   ]
  },
  {
   "cell_type": "code",
   "execution_count": 1,
   "metadata": {},
   "outputs": [],
   "source": [
    "def poly_check(poly):\n",
    "    '''\n",
    "    Check that the data type of the coefficient of each term in the \n",
    "    polynomial is either integer or floating point. Also check that the\n",
    "    power of each term is a nonnegative integer. If these conditions are \n",
    "    not satisfied, return False.\n",
    "    '''\n",
    "    \n",
    "    # Iterate through the tuples in the polynomial list\n",
    "    for term in poly:\n",
    "        \n",
    "        # Check coefficient and power satisfy conditions for polynomial\n",
    "        if (type(term[0]) is int or type(term[0]) is float) and (type(term[1]) is int and term[1] >= 0):\n",
    "            result = True\n",
    "        else:\n",
    "            result = False\n",
    "            break\n",
    "        \n",
    "    return result"
   ]
  },
  {
   "cell_type": "code",
   "execution_count": 64,
   "metadata": {},
   "outputs": [],
   "source": [
    "def poly_conventional(poly):\n",
    "    '''\n",
    "    Checks if input polynomial is in conventional form, i.e. that:\n",
    "    1. Terms are in order of decreasing power\n",
    "    2. Only one term is present per power\n",
    "    If this is not the case, the polynomial is 'rewritten' to\n",
    "    satisfy these conventions.\n",
    "    \n",
    "    Contains 2 subfunctions:\n",
    "    poly_powers_check: Check if there is more than one term per power.\n",
    "    poly_combine_terms: Combines 2 adjacent terms with the same power.\n",
    "    \n",
    "    Returns a polynomial.\n",
    "    '''\n",
    "    \n",
    "    def poly_powers_check(poly):\n",
    "        '''\n",
    "        Counts the number of terms for each power in the input polynomial.\n",
    "        If this exceeds 1 for any term, return False.\n",
    "        If it does not, return True.\n",
    "        '''\n",
    "        \n",
    "        poly_power_list = [y for x,y in poly]\n",
    "\n",
    "        for i in poly_power_list:\n",
    "            if poly_power_list.count(i) > 1:\n",
    "                result = False\n",
    "                break\n",
    "            else:\n",
    "                result = True\n",
    "\n",
    "        return result\n",
    "    \n",
    "    def poly_combine_terms(poly):\n",
    "        '''\n",
    "        Sorts a polynomial in order of descending powers. If more than \n",
    "        one term is present with the same power, these are then combined.\n",
    "        '''\n",
    "        i, j = 0, len(poly)\n",
    "        while i < j-1:\n",
    "            if poly[i][1] == poly[i+1][1]:\n",
    "                poly.append((poly[i][0] + poly[i+1][0], poly[i][1]))\n",
    "                poly.pop(i+1)\n",
    "                poly.pop(i)\n",
    "                poly.sort(key = lambda x:x[1], reverse=True)\n",
    "                i += 1\n",
    "                j -= 1\n",
    "            else:\n",
    "                i += 1\n",
    "        \n",
    "        # Re-sort the polynomial in order of descending powers\n",
    "        poly.sort(key = lambda x:x[1], reverse=True)\n",
    "        \n",
    "        return poly\n",
    "    \n",
    "            \n",
    "    # Sort the polynomial in order of descending powers\n",
    "    poly.sort(key = lambda x:x[1], reverse=True)\n",
    "    \n",
    "    # Call the subfunctions\n",
    "    while not poly_powers_check(poly):\n",
    "        poly_combine_terms(poly)\n",
    "    \n",
    "    return poly\n"
   ]
  },
  {
   "cell_type": "code",
   "execution_count": 65,
   "metadata": {},
   "outputs": [
    {
     "name": "stdout",
     "output_type": "stream",
     "text": [
      "[(5, 3), (3, 2), (3, 1), (-2, 0)]\n",
      "[(5, 3), (3, 2), (-2, 0)]\n"
     ]
    }
   ],
   "source": [
    "poly1 = [(3,2), (9,1), (-3,1), (-3,1), (5,3), (-2,0)]\n",
    "poly2 = [(3,2), (5,3), (-2,0)]\n",
    "\n",
    "print(poly_conventional(poly1))\n",
    "print(poly_conventional(poly2))"
   ]
  },
  {
   "cell_type": "markdown",
   "metadata": {},
   "source": [
    "Next we define the function that will calculate the symbolic derivative of a single-variable polynomial. As mentioned in the initial description above, the input *poly* should be a list of two-element tuples. (In the interest of time, the format of the input is not checked by the code.)"
   ]
  },
  {
   "cell_type": "code",
   "execution_count": 2,
   "metadata": {},
   "outputs": [],
   "source": [
    "def compute_deriv(poly):\n",
    "    '''\n",
    "    Calculate the derivative of single-variable polynomial.\n",
    "    '''\n",
    "    \n",
    "    # Initialise list to hold the differentiated result\n",
    "    d_poly = []\n",
    "    \n",
    "    # Iterate through each term in the polynomial and compute the derivative\n",
    "    for i in range(0,len(poly)):\n",
    "  \n",
    "        # Check if power of term is 0; if so, do not differentiate term or add it to d_poly\n",
    "        if poly[i][1] == 0:\n",
    "            continue\n",
    "        else:\n",
    "            # Compute new coefficient & power for term & append to d_poly\n",
    "            d_term = (poly[i][0] * poly[i][1], poly[i][1] - 1)\n",
    "            d_poly.append(d_term)\n",
    "\n",
    "    return d_poly\n"
   ]
  },
  {
   "cell_type": "markdown",
   "metadata": {},
   "source": [
    "Next we define the function that will evaluate a single-variable polynomial for a given value of $x$. This takes 2 inputs: the polynomial (formatted as described above), and the variable $x$. A default value of $x = 1$ is set in the function definition."
   ]
  },
  {
   "cell_type": "code",
   "execution_count": 3,
   "metadata": {},
   "outputs": [],
   "source": [
    "def compute_poly(poly, x=1):\n",
    "    '''\n",
    "    Evaluates a single-variable polynomial (poly) for a given variable value (x).\n",
    "    '''\n",
    "    \n",
    "    # Initialise the running total\n",
    "    run_total = 0\n",
    "    \n",
    "    # Evaluate each term in the polynomial and add it to the running total\n",
    "    for term in poly:\n",
    "        run_total += term[0] * x ** term[1]\n",
    "    \n",
    "    return run_total\n",
    "        "
   ]
  },
  {
   "cell_type": "markdown",
   "metadata": {},
   "source": [
    "Next we define 6 different input polynomials, which will be used to test the *compute_deriv()* and *compute_poly()* functions. Note that the 5th polynomial contains a string and the 6th contains a negative power, to test the *poly_check()* function."
   ]
  },
  {
   "cell_type": "code",
   "execution_count": 4,
   "metadata": {},
   "outputs": [],
   "source": [
    "# Define single-variable polynomials for testing\n",
    "\n",
    "# e.g. 5x^3 + 3x^2 + 9x - 2\n",
    "poly1 = [(5,3), (3,2), (9,1), (-2,0)]\n",
    "\n",
    "# e.g. x^3 - 5x\n",
    "poly2 = [(1,3), (-5,1)]\n",
    "\n",
    "# e.g. 10x^25 + 12x^5 - 73\n",
    "poly3 = [(10,25), (12,5), (-73,0)]\n",
    "\n",
    "# e.g. -x^5 + x^3 - x\n",
    "poly4 = [(-1,5), (1,3), (-1,1)]\n",
    "\n",
    "# e.g. checking behaviour with string input\n",
    "poly5 = [(-1,5), (1,\"test\"), (-1,1)]\n",
    "\n",
    "# e.g. checking behaviour with negative power\n",
    "poly6 = [(-1,5), (1,-3), (-1,1)]\n",
    "\n",
    "# Group the example polynomials together in a list for ease of use\n",
    "poly_list = [poly1, poly2, poly3, poly4, poly5, poly6]"
   ]
  },
  {
   "cell_type": "markdown",
   "metadata": {},
   "source": [
    "Now we test the derivative function with these polynomials. Some basic input data type checking is done prior to calling the function (using the poly_check() function defined earlier). Output is printed to the console."
   ]
  },
  {
   "cell_type": "code",
   "execution_count": 8,
   "metadata": {},
   "outputs": [
    {
     "name": "stdout",
     "output_type": "stream",
     "text": [
      "The input polynomial is: [(5, 3), (3, 2), (9, 1), (-2, 0)]\n",
      "Its derivative is: [(15, 2), (6, 1), (9, 0)]\n",
      "\n",
      "The input polynomial is: [(1, 3), (-5, 1)]\n",
      "Its derivative is: [(3, 2), (-5, 0)]\n",
      "\n",
      "The input polynomial is: [(10, 25), (12, 5), (-73, 0)]\n",
      "Its derivative is: [(250, 24), (60, 4)]\n",
      "\n",
      "The input polynomial is: [(-1, 5), (1, 3), (-1, 1)]\n",
      "Its derivative is: [(-5, 4), (3, 2), (-1, 0)]\n",
      "\n",
      "The input polynomial is: [(-1, 5), (1, 'test'), (-1, 1)]\n",
      "Error computing derivative: Polynomial coefficients must be floating point or integer type, and powers must be non-negative integers.\n",
      "\n",
      "The input polynomial is: [(-1, 5), (1, -3), (-1, 1)]\n",
      "Error computing derivative: Polynomial coefficients must be floating point or integer type, and powers must be non-negative integers.\n",
      "\n"
     ]
    }
   ],
   "source": [
    "# Test the compute_deriv function\n",
    "\n",
    "for poly in poly_list:\n",
    "    print(\"The input polynomial is: {}\".format(poly))\n",
    "    \n",
    "    # Check input data is int or float before computing derivative\n",
    "    if poly_check(poly):\n",
    "        \n",
    "        # Compute the derivative\n",
    "        d_poly = compute_deriv(poly)\n",
    "        # Print the output\n",
    "        print(\"Its derivative is: {}\\n\".format(d_poly))\n",
    "        \n",
    "    else:\n",
    "        print(\"Error computing derivative: Polynomial coefficients must be floating point or integer type, and powers must be non-negative integers.\\n\")\n"
   ]
  },
  {
   "cell_type": "markdown",
   "metadata": {},
   "source": [
    "Finally we test the polynomial-evaluating function for the same 6 polynomials. Again, some basic input checking is done prior to calling the function (by using the *poly_check()* function defined earlier to check the polynomial input, and also a direct check of $x$'s type). Output is again printed to the console."
   ]
  },
  {
   "cell_type": "code",
   "execution_count": 7,
   "metadata": {},
   "outputs": [
    {
     "name": "stdout",
     "output_type": "stream",
     "text": [
      "The input polynomial is: [(5, 3), (3, 2), (9, 1), (-2, 0)]\n",
      "Given a value of x = 2, the polynomial evaluates to 68.\n",
      "\n",
      "The input polynomial is: [(1, 3), (-5, 1)]\n",
      "Given a value of x = 2, the polynomial evaluates to -2.\n",
      "\n",
      "The input polynomial is: [(10, 25), (12, 5), (-73, 0)]\n",
      "Given a value of x = 2, the polynomial evaluates to 335544631.\n",
      "\n",
      "The input polynomial is: [(-1, 5), (1, 3), (-1, 1)]\n",
      "Given a value of x = 2, the polynomial evaluates to -26.\n",
      "\n",
      "The input polynomial is: [(-1, 5), (1, 'test'), (-1, 1)]\n",
      "Error evaluating polynomial: Polynomial coefficients must be floating point or integer type, and powers must be non-negative integers.\n",
      "\n",
      "The input polynomial is: [(-1, 5), (1, -3), (-1, 1)]\n",
      "Error evaluating polynomial: Polynomial coefficients must be floating point or integer type, and powers must be non-negative integers.\n",
      "\n"
     ]
    }
   ],
   "source": [
    "# Test the compute_poly function\n",
    "\n",
    "# Initialise the variable x\n",
    "x = 2\n",
    "\n",
    "# Check data type of x is numeric\n",
    "if type(x) is int or type(x) is float:\n",
    "\n",
    "    # Compute the value of each polynomial\n",
    "    for poly in poly_list:\n",
    "        print(\"The input polynomial is: {}\".format(poly))\n",
    "        \n",
    "        # Check input data is int or float before computing derivative\n",
    "        if poly_check(poly):\n",
    "            result = compute_poly(poly, x)\n",
    "            # Print the output\n",
    "            print(\"Given a value of x = {}, the polynomial evaluates to {}.\\n\".format(x, result))\n",
    "        else:\n",
    "            print(\"Error evaluating polynomial: Polynomial coefficients must be floating point or integer type, and powers must be non-negative integers.\\n\")\n",
    "        \n",
    "else:\n",
    "    print(\"Error: The variable x must be assigned a numeric value.\")"
   ]
  },
  {
   "cell_type": "markdown",
   "metadata": {},
   "source": [
    "<hr style=\"border:2px solid gray\"> </hr>"
   ]
  },
  {
   "cell_type": "markdown",
   "metadata": {},
   "source": [
    "## Reflection"
   ]
  },
  {
   "cell_type": "markdown",
   "metadata": {},
   "source": [
    "Write your reflection in below cell."
   ]
  },
  {
   "cell_type": "markdown",
   "metadata": {},
   "source": [
    "### 1. Choice of data structure:\n",
    "After following the discussions in the forum on how to approach representing a polynomial in Python, I decided to stick with my choice of a list of tuples. Factors this decision was based on:\n",
    "1.  While not specified in the brief, I feel there is an advantage to preserving the input data which (for this application) is unlikely to be outweighed by a need to save memory by overwriting the input\\*. This makes it trivial to verify the output later by direct comparison with the input. With that in mind, it's not necessary to use a fully mutable data structure (e.g. list of lists, dictionary, etc.) and update each term in-place.\n",
    "2. As lists are ordered,  it's straightforward to follow the convention of writing a polynomial in order of decreasing powers. The list.sort() method is efficient and easy to implement, e.g. before returning the output.\n",
    "3. As noted by others in the forum, using a dictionary representation assumes unique powers in the input. While this is true of conventionally-written polynomials, if the input instead contains multiple terms with the same power, this can't be handled easily by a dictionary representation (without first consolidating the terms sharing a power)\\**.\n",
    "\n",
    "\\* In the edge case of an extremely long polynomial, i.e. where its list-of-tuples representation takes up >0.5 of the available memory for storing the input plus the output, it would not be practical to retain the input. However, since a polynomial (and necessarily its derivative, also a polynomial) is a sum of terms, one could in this case split the polynomial into smaller pieces, differentiate each piece, and then recombine the outputs, with some handoffs to storage during that process.\n",
    "\n",
    "\\** A list-of-tuples representation can easily handle multiple terms of the same power, however the output will also have this non-conventional form unless the like terms are consolidated.\n",
    "\n",
    "### 2. Definition of a polynomial:\n",
    "A polynomial by definition may only include integer, non-negative powers. The coefficients may however be non-integer and/or negative. In my first attempt, I applied the same limited checks to both powers and coefficients, which only checked if both were float or integer type.\n",
    "\n",
    "I've since updated the poly_check function to apply the relevant conditions separately to powers and coefficients. \n",
    "\n",
    "### 3. Conventional representation of a polynomial:\n",
    "As mentioned in section 1. above, polynomials are conventionally represented with terms in order of decreasing power, and with only one term per power. \n",
    "\n",
    "### 4. Other learnings & observations\n",
    "1. Lambda expressions\n"
   ]
  },
  {
   "cell_type": "code",
   "execution_count": null,
   "metadata": {},
   "outputs": [],
   "source": []
  },
  {
   "cell_type": "code",
   "execution_count": null,
   "metadata": {},
   "outputs": [],
   "source": []
  }
 ],
 "metadata": {
  "kernelspec": {
   "display_name": "Python 3",
   "language": "python",
   "name": "python3"
  },
  "language_info": {
   "codemirror_mode": {
    "name": "ipython",
    "version": 3
   },
   "file_extension": ".py",
   "mimetype": "text/x-python",
   "name": "python",
   "nbconvert_exporter": "python",
   "pygments_lexer": "ipython3",
   "version": "3.8.8"
  }
 },
 "nbformat": 4,
 "nbformat_minor": 2
}
