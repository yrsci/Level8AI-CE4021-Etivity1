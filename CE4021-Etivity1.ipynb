{
 "cells": [
  {
   "cell_type": "markdown",
   "metadata": {},
   "source": [
    "# Notebook E-tivity 1 CE4021"
   ]
  },
  {
   "cell_type": "markdown",
   "metadata": {},
   "source": [
    "Student name: Yvonne Ryan"
   ]
  },
  {
   "cell_type": "markdown",
   "metadata": {},
   "source": [
    "Student ID: 21208298"
   ]
  },
  {
   "cell_type": "markdown",
   "metadata": {},
   "source": [
    "<hr style=\"border:2px solid gray\"> </hr>"
   ]
  },
  {
   "cell_type": "markdown",
   "metadata": {},
   "source": [
    "## Imports"
   ]
  },
  {
   "cell_type": "code",
   "execution_count": 1,
   "metadata": {},
   "outputs": [],
   "source": [
    "#None"
   ]
  },
  {
   "cell_type": "markdown",
   "metadata": {},
   "source": [
    "If you believe required imports are missing, please contact your moderator."
   ]
  },
  {
   "cell_type": "markdown",
   "metadata": {},
   "source": [
    "<hr style=\"border:2px solid gray\"> </hr>"
   ]
  },
  {
   "cell_type": "markdown",
   "metadata": {},
   "source": [
    "## Task"
   ]
  },
  {
   "cell_type": "markdown",
   "metadata": {},
   "source": [
    "You may add as many cells as you require to complete this task."
   ]
  },
  {
   "cell_type": "markdown",
   "metadata": {},
   "source": [
    "#### My solution:"
   ]
  },
  {
   "cell_type": "markdown",
   "metadata": {},
   "source": [
    "In the code below, a single-variable polynomial is represented by a list of tuples. Each tuple represents a term in the polynomial and contains 2 elements: the first element represents the coefficient of the term, and the second element represents the power that the variable in the term is raised to.\n",
    "\n",
    "e.g. The polynomial  $P(x) = Ax^2 + Bx + C$   is represented by the list [(A,2), (B,1), (C,0)]."
   ]
  },
  {
   "cell_type": "markdown",
   "metadata": {},
   "source": [
    "First we define a small function *numtype_check()* that can be used to check the data type of each tuple element in the polynomial. This will be called by the other functions in the solution. "
   ]
  },
  {
   "cell_type": "code",
   "execution_count": 12,
   "metadata": {},
   "outputs": [],
   "source": [
    "def numtype_check(poly):\n",
    "    '''\n",
    "    Check that the data type of the coefficient and power for each term in the \n",
    "    polynomial is either integer or floating point. If a term is found that is \n",
    "    neither integer nor floating point, the function returns False.\n",
    "    '''\n",
    "    \n",
    "    # Iterate through the tuples in the polynomial list\n",
    "    for term in poly:\n",
    "        \n",
    "        # Iterate through each term in the tuple\n",
    "        for i in range(0,len(term)):\n",
    "            if (type(term[i]) is int or type(term[i]) is float):\n",
    "                result = True\n",
    "            else:\n",
    "                result = False\n",
    "                break\n",
    "                \n",
    "        if result is False:\n",
    "            break\n",
    "        \n",
    "    return result"
   ]
  },
  {
   "cell_type": "markdown",
   "metadata": {},
   "source": [
    "Next we define the function that will calculate the symbolic derivative of a single-variable polynomial. As mentioned in the initial description above, the input *poly* should be a list of two-element tuples. (In the interest of time, the format of the input is not checked by the code.)"
   ]
  },
  {
   "cell_type": "code",
   "execution_count": 13,
   "metadata": {},
   "outputs": [],
   "source": [
    "def compute_deriv(poly):\n",
    "    '''\n",
    "    Calculate the derivative of single-variable polynomial.\n",
    "    '''\n",
    "    \n",
    "    # Initialise list to hold the differentiated result\n",
    "    d_poly = []\n",
    "    \n",
    "    # Iterate through each term in the polynomial and compute the derivative\n",
    "    for i in range(0,len(poly)):\n",
    "  \n",
    "        # Check if power of term is 0; if so, do not differentiate term or add it to d_poly\n",
    "        if poly[i][1] == 0:\n",
    "            continue\n",
    "        else:\n",
    "            # Compute new coefficient & power for term & append to d_poly\n",
    "            d_term = (poly[i][0] * poly[i][1], poly[i][1] - 1)\n",
    "            d_poly.append(d_term)\n",
    "\n",
    "    return d_poly\n"
   ]
  },
  {
   "cell_type": "markdown",
   "metadata": {},
   "source": [
    "Next we define the function that will evaluate a single-variable polynomial for a given value of $x$. This takes 2 inputs: the polynomial (formatted as described above), and the variable $x$. A default value of $x = 1$ is set in the function definition."
   ]
  },
  {
   "cell_type": "code",
   "execution_count": 14,
   "metadata": {},
   "outputs": [],
   "source": [
    "def compute_poly(poly, x=1):\n",
    "    '''\n",
    "    Evaluates a single-variable polynomial (poly) for a given variable value (x).\n",
    "    '''\n",
    "    \n",
    "    # Initialise the running total\n",
    "    run_total = 0\n",
    "    \n",
    "    # Evaluate each term in the polynomial and add it to the running total\n",
    "    for term in poly:\n",
    "        run_total += term[0] * x ** term[1]\n",
    "    \n",
    "    return run_total\n",
    "        "
   ]
  },
  {
   "cell_type": "markdown",
   "metadata": {},
   "source": [
    "Next we define 5 different input polynomials, which will be used to test the *compute_deriv()* and *compute_poly()* functions. Note that the 5th polynomial contains a string, to test the input type check."
   ]
  },
  {
   "cell_type": "code",
   "execution_count": 18,
   "metadata": {},
   "outputs": [],
   "source": [
    "# Define single-variable polynomials for testing\n",
    "\n",
    "# e.g. 5x^3 + 3x^2 + 9x - 2\n",
    "poly1 = [(5,3), (3,2), (9,1), (-2,0)]\n",
    "\n",
    "# e.g. x^3 - 5x\n",
    "poly2 = [(1,3), (-5,1)]\n",
    "\n",
    "# e.g. 10x^25 + 12x^5 - 73\n",
    "poly3 = [(10,25), (12,5), (-73,0)]\n",
    "\n",
    "# e.g. -x^5 + x^3 - x\n",
    "poly4 = [(-1,5), (1,3), (-1,1)]\n",
    "\n",
    "# e.g. checking behaviour with string input\n",
    "poly5 = [(-1,5), (1,\"test\"), (-1,1)]"
   ]
  },
  {
   "cell_type": "markdown",
   "metadata": {},
   "source": [
    "Now we test the derivative function with these polynomials. Some basic input data type checking is done prior to calling the function (using the numtype_check() function defined earlier). Output is printed to the console."
   ]
  },
  {
   "cell_type": "code",
   "execution_count": 19,
   "metadata": {},
   "outputs": [
    {
     "name": "stdout",
     "output_type": "stream",
     "text": [
      "The input polynomial is: [(5, 3), (3, 2), (9, 1), (-2, 0)]\n",
      "Its derivative is: [(15, 2), (6, 1), (9, 0)]\n",
      "\n",
      "The input polynomial is: [(1, 3), (-5, 1)]\n",
      "Its derivative is: [(3, 2), (-5, 0)]\n",
      "\n",
      "The input polynomial is: [(10, 25), (12, 5), (-73, 0)]\n",
      "Its derivative is: [(250, 24), (60, 4)]\n",
      "\n",
      "The input polynomial is: [(-1, 5), (1, 3), (-1, 1)]\n",
      "Its derivative is: [(-5, 4), (3, 2), (-1, 0)]\n",
      "\n",
      "The input polynomial is: [(-1, 5), (1, 'test'), (-1, 1)]\n",
      "Error computing derivative. Polynomial coefficients and powers must be numeric type.\n",
      "\n"
     ]
    }
   ],
   "source": [
    "# Test the compute_deriv function\n",
    "\n",
    "for poly in [poly1, poly2, poly3, poly4, poly5]:\n",
    "    print(\"The input polynomial is: {}\".format(poly))\n",
    "    \n",
    "    # Check input data is int or float before computing derivative\n",
    "    if numtype_check(poly):\n",
    "        \n",
    "        # Compute the derivative\n",
    "        d_poly = compute_deriv(poly)\n",
    "        # Print the output\n",
    "        print(\"Its derivative is: {}\\n\".format(d_poly))\n",
    "        \n",
    "    else:\n",
    "        print('Error computing derivative. Polynomial coefficients and powers must be numeric type.\\n')\n",
    "        break"
   ]
  },
  {
   "cell_type": "markdown",
   "metadata": {},
   "source": [
    "Finally we test the polynomial-evaluating function for the same 5 input polynomials. Again, some basic input data type checking is done prior to calling the function (by using the *numtype_check()* function defined earlier to check the polynomial input, and also a direct check of $x$'s type). Output is again printed to the console."
   ]
  },
  {
   "cell_type": "code",
   "execution_count": 20,
   "metadata": {},
   "outputs": [
    {
     "name": "stdout",
     "output_type": "stream",
     "text": [
      "The input polynomial is: [(5, 3), (3, 2), (9, 1), (-2, 0)]\n",
      "Given a value of x = 2, the polynomial evaluates to 68.\n",
      "\n",
      "The input polynomial is: [(1, 3), (-5, 1)]\n",
      "Given a value of x = 2, the polynomial evaluates to -2.\n",
      "\n",
      "The input polynomial is: [(10, 25), (12, 5), (-73, 0)]\n",
      "Given a value of x = 2, the polynomial evaluates to 335544631.\n",
      "\n",
      "The input polynomial is: [(-1, 5), (1, 3), (-1, 1)]\n",
      "Given a value of x = 2, the polynomial evaluates to -26.\n",
      "\n",
      "The input polynomial is: [(-1, 5), (1, 'test'), (-1, 1)]\n",
      "Error evaluating polynomial: Polynomial coefficients and powers must be numeric type.\n",
      "\n"
     ]
    }
   ],
   "source": [
    "# Test the compute_poly function\n",
    "\n",
    "# Initialise the variable x\n",
    "x = 2\n",
    "\n",
    "# Check data type of x is numeric\n",
    "if type(x) is int or type(x) is float:\n",
    "\n",
    "    # Compute the value of each polynomial\n",
    "    for poly in [poly1, poly2, poly3, poly4, poly5]:\n",
    "        print(\"The input polynomial is: {}\".format(poly))\n",
    "        \n",
    "        # Check input data is int or float before computing derivative\n",
    "        if numtype_check(poly):\n",
    "            result = compute_poly(poly, x)\n",
    "            # Print the output\n",
    "            print(\"Given a value of x = {}, the polynomial evaluates to {}.\\n\".format(x, result))\n",
    "        else:\n",
    "            print(\"Error evaluating polynomial: Polynomial coefficients and powers must be numeric type.\\n\")\n",
    "        \n",
    "else:\n",
    "    print(\"Error: The variable x must be assigned a numeric value.\")"
   ]
  },
  {
   "cell_type": "markdown",
   "metadata": {},
   "source": [
    "<hr style=\"border:2px solid gray\"> </hr>"
   ]
  },
  {
   "cell_type": "markdown",
   "metadata": {},
   "source": [
    "## Reflection"
   ]
  },
  {
   "cell_type": "markdown",
   "metadata": {},
   "source": [
    "Write your reflection in below cell."
   ]
  },
  {
   "cell_type": "code",
   "execution_count": null,
   "metadata": {},
   "outputs": [],
   "source": []
  }
 ],
 "metadata": {
  "kernelspec": {
   "display_name": "Python 3",
   "language": "python",
   "name": "python3"
  },
  "language_info": {
   "codemirror_mode": {
    "name": "ipython",
    "version": 3
   },
   "file_extension": ".py",
   "mimetype": "text/x-python",
   "name": "python",
   "nbconvert_exporter": "python",
   "pygments_lexer": "ipython3",
   "version": "3.8.8"
  }
 },
 "nbformat": 4,
 "nbformat_minor": 2
}
