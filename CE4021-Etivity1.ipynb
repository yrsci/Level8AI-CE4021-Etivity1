{
 "cells": [
  {
   "cell_type": "markdown",
   "metadata": {},
   "source": [
    "# Notebook E-tivity 1 CE4021"
   ]
  },
  {
   "cell_type": "markdown",
   "metadata": {},
   "source": [
    "Student name: Yvonne Ryan"
   ]
  },
  {
   "cell_type": "markdown",
   "metadata": {},
   "source": [
    "Student ID: 21208298"
   ]
  },
  {
   "cell_type": "markdown",
   "metadata": {},
   "source": [
    "<hr style=\"border:2px solid gray\"> </hr>"
   ]
  },
  {
   "cell_type": "markdown",
   "metadata": {},
   "source": [
    "## Imports"
   ]
  },
  {
   "cell_type": "code",
   "execution_count": 104,
   "metadata": {},
   "outputs": [],
   "source": [
    "#None"
   ]
  },
  {
   "cell_type": "markdown",
   "metadata": {},
   "source": [
    "If you believe required imports are missing, please contact your moderator."
   ]
  },
  {
   "cell_type": "markdown",
   "metadata": {},
   "source": [
    "<hr style=\"border:2px solid gray\"> </hr>"
   ]
  },
  {
   "cell_type": "markdown",
   "metadata": {},
   "source": [
    "## Task"
   ]
  },
  {
   "cell_type": "markdown",
   "metadata": {},
   "source": [
    "You may add as many cells as you require to complete this task."
   ]
  },
  {
   "cell_type": "markdown",
   "metadata": {},
   "source": [
    "##### Introduction\n",
    "In this solution below, a single-variable polynomial is represented by a list of tuples. Each tuple represents a term in the polynomial and contains 2 elements: the first element represents the coefficient of the term, and the second element represents the power that the variable in the term is raised to.\n",
    "\n",
    "e.g. The polynomial  $P(x) = Ax^2 + Bx + C$   is represented by the list [(A,2), (B,1), (C,0)].\n",
    "\n",
    "Some input checks are performed to make sure that all powers are non-negative integers, and that all coefficients are integer or floating-point type. This solution also converts the input polynomials to standard form, i.e.:\n",
    "1. The terms are written in order of decreasing power\n",
    "2. There is only a single term per power\n",
    "\n"
   ]
  },
  {
   "cell_type": "markdown",
   "metadata": {},
   "source": [
    "##### Code: Function Definitions\n",
    "First we define a function *poly_check()* that can be used to check the suitability of each tuple element in the polynomial. The coeffecients of each term may be integer or floating point; powers must be non-negative integers. "
   ]
  },
  {
   "cell_type": "code",
   "execution_count": 105,
   "metadata": {},
   "outputs": [],
   "source": [
    "def poly_check(poly):\n",
    "    '''\n",
    "    Check that:\n",
    "    1. The data type of the coefficient of each term in the polynomial \n",
    "    is either integer or floating point. \n",
    "    2. The power of each term is a nonnegative integer. \n",
    "    \n",
    "    If these conditions are not satisfied, return False.\n",
    "    '''\n",
    "    \n",
    "    # Iterate through the tuples in the polynomial list\n",
    "    for term in poly:\n",
    "        \n",
    "        # Check coefficient and power satisfy conditions for polynomial\n",
    "        if (type(term[0]) is int or type(term[0]) is float) and (type(term[1]) is int and term[1] >= 0):\n",
    "            result = True\n",
    "        else:\n",
    "            result = False\n",
    "            break\n",
    "        \n",
    "    return result"
   ]
  },
  {
   "cell_type": "markdown",
   "metadata": {},
   "source": [
    "We next define a function *poly_standard* to check if a polynomial is in standard form and, if not, to convert it."
   ]
  },
  {
   "cell_type": "code",
   "execution_count": 164,
   "metadata": {},
   "outputs": [],
   "source": [
    "def poly_standard(poly):\n",
    "    '''\n",
    "    Checks if input polynomial is in standard form, i.e. that:\n",
    "    1. Terms are in order of decreasing power\n",
    "    2. Only one term is present per power\n",
    "    If this is not the case, the polynomial is 'rewritten' to satisfy \n",
    "    these conventions.\n",
    "    \n",
    "    Contains 2 subfunctions:\n",
    "    poly_powers_check: Check if there is more than one term per power.\n",
    "    poly_combine_terms: Combines 2 adjacent terms with the same power.\n",
    "    \n",
    "    Returns a polynomial in standard form.\n",
    "    '''\n",
    "    \n",
    "    def poly_powers_check(poly):\n",
    "        '''\n",
    "        Counts the number of terms for each power in the input polynomial.\n",
    "        If this exceeds 1 for any term, return False.\n",
    "        If it does not, return True.\n",
    "        '''\n",
    "        # Make a list of the powers in the polynomial\n",
    "        poly_power_list = [y for x,y in poly]\n",
    "\n",
    "        # Iterate through the list of powers & check count of each\n",
    "        for i in poly_power_list:\n",
    "            if poly_power_list.count(i) > 1:\n",
    "                result = False\n",
    "                break\n",
    "            else:\n",
    "                result = True\n",
    "\n",
    "        return result\n",
    "    \n",
    "    \n",
    "    def poly_combine_terms(poly):\n",
    "        '''\n",
    "        Iterates through input polynomial. Combines the first pair of terms\n",
    "        which have the same power.\n",
    "        '''\n",
    "        \n",
    "        i = 0\n",
    "        while i < len(poly)-1:\n",
    "            # Check if next term has same power as current term\n",
    "            if poly[i][1] == poly[i+1][1]:\n",
    "                # Replace current term with new combined term, remove next term\n",
    "                poly[i] = (poly[i][0] + poly[i+1][0], poly[i][1])\n",
    "                poly.pop(i+1)\n",
    "                i += 1\n",
    "            else:\n",
    "                i += 1\n",
    "        \n",
    "        # Re-sort the polynomial in order of descending powers\n",
    "        poly.sort(key = lambda x:x[1], reverse=True)\n",
    "        \n",
    "        return poly\n",
    "    \n",
    "            \n",
    "    # Sort the polynomial in order of descending powers\n",
    "    poly.sort(key = lambda x:x[1], reverse=True)\n",
    "    \n",
    "    # If multiple terms per power in poly, combine these terms\n",
    "    while not poly_powers_check(poly): \n",
    "        poly_combine_terms(poly)\n",
    "    \n",
    "    return poly\n"
   ]
  },
  {
   "cell_type": "markdown",
   "metadata": {},
   "source": [
    "Next we define a function to calculate the symbolic derivative of a single-variable polynomial. The input *poly* is assumed to be a list of 2-element tuples."
   ]
  },
  {
   "cell_type": "code",
   "execution_count": 165,
   "metadata": {},
   "outputs": [],
   "source": [
    "def compute_deriv(poly):\n",
    "    '''\n",
    "    Calculate the derivative of single-variable polynomial.\n",
    "    '''\n",
    "    \n",
    "    # Initialise list to hold the differentiated result\n",
    "    d_poly = []\n",
    "    \n",
    "    # Iterate through each term in the polynomial and compute the derivative\n",
    "    for i in range(0,len(poly)):\n",
    "  \n",
    "        # Check if power of term is 0; if so, do not differentiate term or add it to d_poly\n",
    "        if poly[i][1] == 0:\n",
    "            continue\n",
    "        else:\n",
    "            # Compute new coefficient & power for term & append to d_poly\n",
    "            d_term = (poly[i][0] * poly[i][1], poly[i][1] - 1)\n",
    "            d_poly.append(d_term)\n",
    "\n",
    "    return d_poly\n"
   ]
  },
  {
   "cell_type": "markdown",
   "metadata": {},
   "source": [
    "Next we define a function to evaluate a single-variable polynomial for a given value of $x$. This takes 2 inputs: the polynomial (again assumed to be a list of 2-element tuples), and the variable $x$."
   ]
  },
  {
   "cell_type": "code",
   "execution_count": 166,
   "metadata": {},
   "outputs": [],
   "source": [
    "def compute_poly(poly, x):\n",
    "    '''\n",
    "    Evaluates a single-variable polynomial (poly) for a given variable value (x).\n",
    "    '''\n",
    "    \n",
    "    # Initialise the running total\n",
    "    run_total = 0\n",
    "    \n",
    "    # Evaluate each term in the polynomial and add it to the running total\n",
    "    for term in poly:\n",
    "        run_total += term[0] * x ** term[1]\n",
    "    \n",
    "    return run_total\n",
    "        "
   ]
  },
  {
   "cell_type": "markdown",
   "metadata": {},
   "source": [
    "#### Code: Testing\n",
    "First we define a list of polynomials which will be used to test the functions defined earlier. Note that *poly5* and *poly6* are expected to cause errors. \n",
    "\n",
    "For manual calculations verifying these outputs, I have updated an additional .pdf to Sulis."
   ]
  },
  {
   "cell_type": "code",
   "execution_count": 167,
   "metadata": {},
   "outputs": [],
   "source": [
    "# Define single-variable polynomials for testing\n",
    " \n",
    "# e.g. 5x^3 + 3x^2 + 9x - 2\n",
    "poly1 = [(5,3), (3,2), (9,1), (-2,0)]\n",
    "\n",
    "# e.g. 10x^25 + 12x^5 - 73\n",
    "poly2 = [(10,25), (12,5), (-73,0)]                 \n",
    "\n",
    "# e.g. -x^5 + x^3 - (1/2)x\n",
    "poly3 = [(-1,5), (1,3), (-0.5,1)]\n",
    "                 \n",
    "#e.g. 3x^2 + 9x - 3x - 3x + 5x^3 - 2\n",
    "poly4 = [(3,2), (9,1), (-3,1), (-3,1), (5,3), (-2,0)]\n",
    "                 \n",
    "# e.g. checking behaviour with string input\n",
    "poly5 = [(-1,5), (1,\"test\"), (-1,1)]\n",
    "\n",
    "# e.g. checking behaviour with negative power\n",
    "poly6 = [(-1,5), (1,-3), (-1,1)]\n",
    "\n",
    "# Group the example polynomials together in a list for ease of testing\n",
    "poly_list = [poly1, poly2, poly3, poly4, poly5, poly6]"
   ]
  },
  {
   "cell_type": "markdown",
   "metadata": {},
   "source": [
    "Each polynomial is converted to standard form (if necessary) using function *poly_standard*. Output is printed to console before and after calling *poly_standard*."
   ]
  },
  {
   "cell_type": "code",
   "execution_count": 168,
   "metadata": {},
   "outputs": [
    {
     "name": "stdout",
     "output_type": "stream",
     "text": [
      "Input polynomial (raw): [(5, 3), (3, 2), (9, 1), (-2, 0)]\n",
      "Input polynomial (standard): [(5, 3), (3, 2), (9, 1), (-2, 0)]\n",
      "\n",
      "Input polynomial (raw): [(10, 25), (12, 5), (-73, 0)]\n",
      "Input polynomial (standard): [(10, 25), (12, 5), (-73, 0)]\n",
      "\n",
      "Input polynomial (raw): [(-1, 5), (1, 3), (-0.5, 1)]\n",
      "Input polynomial (standard): [(-1, 5), (1, 3), (-0.5, 1)]\n",
      "\n",
      "Input polynomial (raw): [(3, 2), (9, 1), (-3, 1), (-3, 1), (5, 3), (-2, 0)]\n",
      "Input polynomial (standard): [(5, 3), (3, 2), (3, 1), (-2, 0)]\n",
      "\n",
      "Input polynomial (raw): [(-1, 5), (1, 'test'), (-1, 1)]\n",
      "TypeError: All values must be int or float type.\n",
      "\n",
      "Input polynomial (raw): [(-1, 5), (1, -3), (-1, 1)]\n",
      "Input polynomial (standard): [(-1, 5), (-1, 1), (1, -3)]\n",
      "\n"
     ]
    }
   ],
   "source": [
    "for poly in poly_list:\n",
    "    print(\"Input polynomial (raw): {}\".format(poly))   \n",
    "    \n",
    "    # Handle non-numeric input (without calling poly_check)\n",
    "    try:\n",
    "        # Convert to standard form if necessary & print output\n",
    "        poly = poly_standard(poly)\n",
    "        print(\"Input polynomial (standard): {}\\n\".format(poly))\n",
    "        \n",
    "    except TypeError:\n",
    "        print(\"TypeError: All values must be int or float type.\\n\")\n"
   ]
  },
  {
   "cell_type": "markdown",
   "metadata": {},
   "source": [
    "Now we test the derivative function with the now-standardised polynomials. Some input data type checking is done prior to calling the function (using the *poly_check* function defined earlier). Output is printed to the console at each stage."
   ]
  },
  {
   "cell_type": "code",
   "execution_count": 169,
   "metadata": {},
   "outputs": [
    {
     "name": "stdout",
     "output_type": "stream",
     "text": [
      "Input polynomial: [(5, 3), (3, 2), (9, 1), (-2, 0)]\n",
      "Output derivative: [(15, 2), (6, 1), (9, 0)]\n",
      "\n",
      "Input polynomial: [(10, 25), (12, 5), (-73, 0)]\n",
      "Output derivative: [(250, 24), (60, 4)]\n",
      "\n",
      "Input polynomial: [(-1, 5), (1, 3), (-0.5, 1)]\n",
      "Output derivative: [(-5, 4), (3, 2), (-0.5, 0)]\n",
      "\n",
      "Input polynomial: [(5, 3), (3, 2), (3, 1), (-2, 0)]\n",
      "Output derivative: [(15, 2), (6, 1), (3, 0)]\n",
      "\n",
      "Input polynomial: [(-1, 5), (1, 'test'), (-1, 1)]\n",
      "Error: Polynomial coefficients must be floating point or integer type, and powers must be non-negative integers.\n",
      "\n",
      "Input polynomial: [(-1, 5), (-1, 1), (1, -3)]\n",
      "Error: Polynomial coefficients must be floating point or integer type, and powers must be non-negative integers.\n",
      "\n"
     ]
    }
   ],
   "source": [
    "# Test the compute_deriv function\n",
    "\n",
    "for poly in poly_list:\n",
    "    print(\"Input polynomial: {}\".format(poly))\n",
    "    \n",
    "    # Check input data is in correct form before computing derivative\n",
    "    if poly_check(poly):\n",
    "        \n",
    "        # Compute the derivative\n",
    "        d_poly = compute_deriv(poly)\n",
    "        # Print the output\n",
    "        print(\"Output derivative: {}\\n\".format(d_poly))\n",
    "        \n",
    "    else:\n",
    "        print(\"Error: Polynomial coefficients must be floating point or integer type, and powers must be non-negative integers.\\n\")\n"
   ]
  },
  {
   "cell_type": "markdown",
   "metadata": {},
   "source": [
    "Finally we call the polynomial-evaluating function for the list of polynomials. Again *poly_check* is called to check the input polynomial. There is also a direct check of $x$'s type. Output is again printed to the console."
   ]
  },
  {
   "cell_type": "code",
   "execution_count": 170,
   "metadata": {},
   "outputs": [
    {
     "name": "stdout",
     "output_type": "stream",
     "text": [
      "Input polynomial: [(5, 3), (3, 2), (9, 1), (-2, 0)]\n",
      "Given a value of x = 2, this polynomial evaluates to 68.\n",
      "\n",
      "Input polynomial: [(10, 25), (12, 5), (-73, 0)]\n",
      "Given a value of x = 2, this polynomial evaluates to 335544631.\n",
      "\n",
      "Input polynomial: [(-1, 5), (1, 3), (-0.5, 1)]\n",
      "Given a value of x = 2, this polynomial evaluates to -25.0.\n",
      "\n",
      "Input polynomial: [(5, 3), (3, 2), (3, 1), (-2, 0)]\n",
      "Given a value of x = 2, this polynomial evaluates to 56.\n",
      "\n",
      "Input polynomial: [(-1, 5), (1, 'test'), (-1, 1)]\n",
      "Error: Polynomial coefficients must be floating point or integer type, and powers must be non-negative integers.\n",
      "\n",
      "Input polynomial: [(-1, 5), (-1, 1), (1, -3)]\n",
      "Error: Polynomial coefficients must be floating point or integer type, and powers must be non-negative integers.\n",
      "\n"
     ]
    }
   ],
   "source": [
    "# Test the compute_poly function\n",
    "\n",
    "# Initialise the variable x\n",
    "x = 2\n",
    "\n",
    "# Check data type of x is numeric\n",
    "if type(x) is int or type(x) is float:\n",
    "\n",
    "    # Compute the value of each polynomial\n",
    "    for poly in poly_list:\n",
    "        print(\"Input polynomial: {}\".format(poly))\n",
    "        \n",
    "        # Check input data is in correct form before evaluating polynomial\n",
    "        if poly_check(poly):\n",
    "            \n",
    "            # Calculate result & print output\n",
    "            result = compute_poly(poly, x)\n",
    "            print(\"Given a value of x = {}, this polynomial evaluates to {}.\\n\".format(x, result))\n",
    "            \n",
    "        else:\n",
    "            print(\"Error: Polynomial coefficients must be floating point or integer type, and powers must be non-negative integers.\\n\")\n",
    "        \n",
    "else:\n",
    "    print(\"Error: The variable x must be assigned a numeric value.\")"
   ]
  },
  {
   "cell_type": "markdown",
   "metadata": {},
   "source": [
    "<hr style=\"border:2px solid gray\"> </hr>"
   ]
  },
  {
   "cell_type": "markdown",
   "metadata": {},
   "source": [
    "## Reflection"
   ]
  },
  {
   "cell_type": "markdown",
   "metadata": {},
   "source": [
    "Write your reflection in below cell."
   ]
  },
  {
   "cell_type": "markdown",
   "metadata": {},
   "source": [
    "### 1. Choice of data structure:\n",
    "After following discussions in the forum on how to approach representing a polynomial in Python, I decided to stick with my choice of a list of tuples. This decision was based on the following:\n",
    "1.  While not specified in the brief, I feel there is an advantage to preserving the input data which (for this application) is unlikely to be outweighed by a need to save memory by overwriting the input\\*. This makes it trivial to verify the output later by direct comparison with the input. With this approach, it's not necessary to use a fully mutable data structure (e.g. list of lists, dictionary, etc.) and update each term in-place.\n",
    "2. As lists are ordered,  it's straightforward to implement the convention of writing a polynomial in order of decreasing powers. The list.sort() method is an efficient way to impose this requirement.\n",
    "3. As noted by others in the forum, using a dictionary of {power: coefficient} pairs assumes unique powers in the input. While this is not an issue for polynomials in standard form, the dictionary implementation cannot handle cases where the input contains multiple terms with the same power\\**.\n",
    "4. As noted in the Introduction above, a list of tuples need only be as long as the number of terms in the polynomial. This differs from an approach using a simple list where the index of each term is used to represent the power of the term, where a polynomial of degree $n$ would need a list of $n$ elements to represent it, even if many of the elements (i.e. coefficients) are 0. This simple list representation also cannot handle cases where more than one term share the same power.\n",
    "\n",
    "\\* In the edge case of extremely long polynomials, i.e. where a list-of-tuples representation takes up >0.5 of the available memory for storing the input plus the output, it would not be practical to retain the input. However, since a polynomial (and necessarily its derivative, also a polynomial) is a sum of terms, one could in this case split the polynomial into smaller pieces, differentiate each piece, and then recombine the outputs, with some handoffs to storage during that process. This has not been implemented here.\n",
    "\n",
    "\\** A list-of-tuples representation can easily handle multiple terms of the same power, however the output will also retain the non-standard form unless other steps are taken to consolidate the like terms.\n",
    "\n",
    "### 2. Definition of a polynomial:\n",
    "A polynomial by definition may only include integer, non-negative powers. The coefficients may however be either float or integer, and/or negative. \n",
    "\n",
    "In my first attempt, I applied the same limited checks to both powers and coefficients, which only checked if both were float or integer type. I've since updated the *poly_check* function to apply the relevant conditions separately to powers and coefficients. \n",
    "\n",
    "### 3. Standard form of a polynomial:\n",
    "As mentioned in section 1. above, polynomials are conventionally written with terms in order of decreasing power, and with only one term per power. This script could already handle input polynomials that did not satisfy these conventions, returning outputs in the same form as the inputs. \n",
    "\n",
    "However, having seen some discussion on this in the forum, I decided to enhance my solution so all input polynomials are converted to standard form (where necessary) before further processing.\n",
    "\n",
    "### 4. Other learnings\n",
    "1. How to use Lambda expressions\n",
    "2. How to use list comprehensions"
   ]
  }
 ],
 "metadata": {
  "kernelspec": {
   "display_name": "Python 3",
   "language": "python",
   "name": "python3"
  },
  "language_info": {
   "codemirror_mode": {
    "name": "ipython",
    "version": 3
   },
   "file_extension": ".py",
   "mimetype": "text/x-python",
   "name": "python",
   "nbconvert_exporter": "python",
   "pygments_lexer": "ipython3",
   "version": "3.8.8"
  }
 },
 "nbformat": 4,
 "nbformat_minor": 2
}
